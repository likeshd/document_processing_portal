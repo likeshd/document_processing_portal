{
 "cells": [
  {
   "cell_type": "code",
   "execution_count": 1,
   "id": "83b76659-bc03-4841-9b16-c33701fa3a1a",
   "metadata": {},
   "outputs": [
    {
     "name": "stdout",
     "output_type": "stream",
     "text": [
      "logging\n"
     ]
    }
   ],
   "source": [
    "print(\"logging\")"
   ]
  },
  {
   "cell_type": "code",
   "execution_count": 3,
   "id": "efb25dfa-ac4c-40ef-a52e-bc520e8e6ee7",
   "metadata": {},
   "outputs": [],
   "source": [
    "import logging\n",
    "import os\n",
    "from datetime import datetime"
   ]
  },
  {
   "cell_type": "code",
   "execution_count": 8,
   "id": "f574f4ce-eaff-416a-947d-d3e8e26cbb53",
   "metadata": {},
   "outputs": [],
   "source": [
    "log_dir = os.path.join(os.getcwd(),\"logs\")"
   ]
  },
  {
   "cell_type": "code",
   "execution_count": 9,
   "id": "58cc955c-942a-478a-9346-050035a0013c",
   "metadata": {},
   "outputs": [],
   "source": [
    "os.makedirs(log_dir,exist_ok = True)"
   ]
  },
  {
   "cell_type": "code",
   "execution_count": 11,
   "id": "9be46101-7c5d-48bf-bdd8-b44e2bef594b",
   "metadata": {},
   "outputs": [],
   "source": [
    "Log_File = f\"{datetime.now().strftime('%m_%d_%Y_%H_%M_%S')}.log\""
   ]
  },
  {
   "cell_type": "code",
   "execution_count": 12,
   "id": "1d4b137b-ee07-4773-9ec4-b109bfc0fdbb",
   "metadata": {},
   "outputs": [
    {
     "data": {
      "text/plain": [
       "'07_29_2025_12_52_27.log'"
      ]
     },
     "execution_count": 12,
     "metadata": {},
     "output_type": "execute_result"
    }
   ],
   "source": [
    "Log_File"
   ]
  },
  {
   "cell_type": "code",
   "execution_count": null,
   "id": "2336121c-bddf-437f-9e9e-c9abb52f39cc",
   "metadata": {},
   "outputs": [],
   "source": [
    "#today\n",
    "# with today's date log file will be creted\n",
    "\n",
    "#tomorrow\n",
    "# with tomorrow's date log file will be created"
   ]
  },
  {
   "cell_type": "code",
   "execution_count": 13,
   "id": "4987b2b6-1f3a-4f67-a1dd-a3259e39e215",
   "metadata": {},
   "outputs": [],
   "source": [
    "LOG_FILE_PATH=os.path.join(log_dir, Log_File)"
   ]
  },
  {
   "cell_type": "code",
   "execution_count": 14,
   "id": "0e307449-ccc2-4c5e-b816-063ae9b5efc0",
   "metadata": {},
   "outputs": [],
   "source": [
    "logging.basicConfig(\n",
    "    filename=LOG_FILE_PATH,\n",
    "    format=\"[ %(asctime)s ] %(levelname)s %(name)s (line:%(lineno)d) - %(message)s\",\n",
    "    level=logging.INFO,\n",
    ")"
   ]
  },
  {
   "cell_type": "code",
   "execution_count": 15,
   "id": "e1e2e2fb-6fee-4e14-9e69-dff37639d051",
   "metadata": {},
   "outputs": [],
   "source": [
    "logger=logging.getLogger(\"DocumentPortal\")"
   ]
  },
  {
   "cell_type": "code",
   "execution_count": 16,
   "id": "6216c498-c70c-4b9b-9110-7b38432855e6",
   "metadata": {},
   "outputs": [],
   "source": [
    "logger.info(\"This is an info message\")"
   ]
  },
  {
   "cell_type": "code",
   "execution_count": null,
   "id": "9c45d844-eb7b-45ef-b413-4ddcc263e609",
   "metadata": {},
   "outputs": [],
   "source": []
  },
  {
   "cell_type": "code",
   "execution_count": null,
   "id": "b28e7195-787c-4917-858d-c335aeff9299",
   "metadata": {},
   "outputs": [],
   "source": [
    "## python concept or python basics should clear"
   ]
  },
  {
   "cell_type": "code",
   "execution_count": 17,
   "id": "2bc62111-30b1-4d90-afa8-1ff8dc5f251d",
   "metadata": {},
   "outputs": [],
   "source": [
    "import structlog\n",
    "log=structlog.get_logger()"
   ]
  },
  {
   "cell_type": "code",
   "execution_count": null,
   "id": "590e5d44-e809-44a8-ad50-bc6256e30a75",
   "metadata": {},
   "outputs": [],
   "source": [
    "log.info(\"User uploaded a file\", user_id=123, filename=\"report.pdf\")"
   ]
  },
  {
   "cell_type": "code",
   "execution_count": null,
   "id": "4138d789-5cc1-444a-8128-a8d38789f749",
   "metadata": {},
   "outputs": [],
   "source": [
    "log.error(\"Failed to process PDF\", error=\"File not found\", user_id=123)"
   ]
  },
  {
   "cell_type": "code",
   "execution_count": null,
   "id": "ad954635-223d-44d9-8514-b70862bfb711",
   "metadata": {},
   "outputs": [],
   "source": []
  },
  {
   "cell_type": "code",
   "execution_count": null,
   "id": "66ab948c-e138-42be-aabd-2303c3829f3d",
   "metadata": {},
   "outputs": [],
   "source": []
  }
 ],
 "metadata": {
  "kernelspec": {
   "display_name": "Python 3 (ipykernel)",
   "language": "python",
   "name": "python3"
  },
  "language_info": {
   "codemirror_mode": {
    "name": "ipython",
    "version": 3
   },
   "file_extension": ".py",
   "mimetype": "text/x-python",
   "name": "python",
   "nbconvert_exporter": "python",
   "pygments_lexer": "ipython3",
   "version": "3.12.6"
  }
 },
 "nbformat": 4,
 "nbformat_minor": 5
}
